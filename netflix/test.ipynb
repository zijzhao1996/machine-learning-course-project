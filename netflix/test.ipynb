{
 "cells": [
  {
   "cell_type": "code",
   "execution_count": 208,
   "metadata": {},
   "outputs": [],
   "source": [
    "import numpy as np\n",
    "import kmeans\n",
    "import common\n",
    "import naive_em\n",
    "import em\n",
    "from typing import Tuple\n",
    "X = np.loadtxt(\"toy_data.txt\")"
   ]
  },
  {
   "cell_type": "code",
   "execution_count": 72,
   "metadata": {},
   "outputs": [],
   "source": [
    "import kmeans\n",
    "import common"
   ]
  },
  {
   "cell_type": "code",
   "execution_count": 24,
   "metadata": {},
   "outputs": [
    {
     "data": {
      "text/plain": [
       "array([[0., 0., 0., 0., 0.],\n",
       "       [0., 0., 0., 0., 0.],\n",
       "       [0., 0., 0., 0., 0.],\n",
       "       [0., 0., 0., 0., 0.]])"
      ]
     },
     "execution_count": 24,
     "metadata": {},
     "output_type": "execute_result"
    }
   ],
   "source": [
    "K = [1,2,3,4]\n",
    "Seed = [0,1,2,3,4]\n",
    "cost_matrix = np.zeros((4,5))\n",
    "cost_matrix"
   ]
  },
  {
   "cell_type": "code",
   "execution_count": 26,
   "metadata": {},
   "outputs": [
    {
     "data": {
      "text/plain": [
       "array([5462.29745234, 1684.9079503 , 1329.59486715, 1035.49982654])"
      ]
     },
     "execution_count": 26,
     "metadata": {},
     "output_type": "execute_result"
    }
   ],
   "source": [
    "for i in range(0,4):\n",
    "    for j in range(0,5):\n",
    "        mixture, post = common.init(X, K = K[i], seed = Seed[j])\n",
    "        mixture, post, cost = kmeans.run(X, mixture, post)\n",
    "        cost_matrix[i,j] = cost\n",
    "np.min(cost_matrix, axis = 1)"
   ]
  },
  {
   "cell_type": "code",
   "execution_count": 177,
   "metadata": {},
   "outputs": [
    {
     "data": {
      "text/plain": [
       "<module 'naive_em' from '/Users/zhaozijie/Desktop/mit_micromaster/netflix/naive_em.py'>"
      ]
     },
     "execution_count": 177,
     "metadata": {},
     "output_type": "execute_result"
    }
   ],
   "source": [
    "import importlib\n",
    "importlib.reload(naive_em)"
   ]
  },
  {
   "cell_type": "code",
   "execution_count": 382,
   "metadata": {},
   "outputs": [],
   "source": [
    "X = np.array([[0.85794562, 0.84725174],\n",
    " [0.6235637 , 0.38438171],\n",
    " [0.29753461, 0.05671298],\n",
    " [0.27265629, 0.47766512],\n",
    " [0.81216873 ,0.47997717],\n",
    " [0.3927848 , 0.83607876],\n",
    " [0.33739616, 0.64817187],\n",
    " [0.36824154, 0.95715516],\n",
    " [0.14035078 ,0.87008726],\n",
    " [0.47360805 ,0.80091075],\n",
    " [0.52047748, 0.67887953],\n",
    " [0.72063265, 0.58201979],\n",
    " [0.53737323 ,0.75861562],\n",
    " [0.10590761 ,0.47360042],\n",
    " [0.18633234 ,0.73691818]])\n",
    "K = 6\n",
    "Mu = np.array([[0.6235637 ,0.38438171],\n",
    " [0.3927848 , 0.83607876],\n",
    " [0.81216873 ,0.47997717],\n",
    " [0.14035078, 0.87008726],\n",
    " [0.36824154 ,0.95715516],\n",
    " [0.10590761 ,0.47360042]])\n",
    "Var = [0.10038354 ,0.07227467, 0.13240693, 0.12411825, 0.10497521, 0.12220856]\n",
    "P = [0.1680912 , 0.15835331 ,0.21384187 ,0.14223565, 0.14295074, 0.17452722]"
   ]
  },
  {
   "cell_type": "code",
   "execution_count": 70,
   "metadata": {},
   "outputs": [
    {
     "data": {
      "text/plain": [
       "-5.592899125423124"
      ]
     },
     "execution_count": 70,
     "metadata": {},
     "output_type": "execute_result"
    }
   ],
   "source": [
    "n, _ = X.shape\n",
    "K, _ = Mu.shape\n",
    "post = np.zeros((n, K))\n",
    "prob = np.zeros((n, K))\n",
    "\n",
    "for i in range(n):\n",
    "    # claculate the probability sample i assign to a class j\n",
    "    for j in range(K):\n",
    "        x = X[i, :]\n",
    "        var = Var[j]\n",
    "        d = x.shape[0]\n",
    "        mu = Mu[j,:]\n",
    "        prob[i,j] = (np.power((var* 2*np.pi), -d/2)* \\\n",
    "                    np.exp(((-1/2) * \\\n",
    "                    (((np.transpose((x - mu))@(1/var*np.eye(d))) @ (x - mu))))))\n",
    "    for k in range(K):\n",
    "        post[i, k] = prob[i,k]*P[k]/np.dot(prob[i,:],P)\n",
    "# calculate log likelinhood\n",
    "np.sum(np.log(np.dot(prob,P)))"
   ]
  },
  {
   "cell_type": "code",
   "execution_count": 64,
   "metadata": {},
   "outputs": [
    {
     "data": {
      "text/plain": [
       "array([[0.41482631, 0.49245608, 0.71655954, 0.16075731, 0.45675873,\n",
       "        0.0727311 ],\n",
       "       [1.58546852, 0.37137783, 1.01527685, 0.19353174, 0.23294583,\n",
       "        0.42114729],\n",
       "       [0.54697777, 0.03094754, 0.22477522, 0.0807824 , 0.03113246,\n",
       "        0.55037844],\n",
       "       [0.82218449, 0.81944796, 0.40044244, 0.64260215, 0.48556845,\n",
       "        1.16220676],\n",
       "       [1.26894056, 0.27127304, 1.20201369, 0.11274716, 0.20048039,\n",
       "        0.1691769 ],\n",
       "       [0.44014525, 2.20208467, 0.38326229, 0.98736231, 1.40981892,\n",
       "        0.54327961],\n",
       "       [0.74556586, 1.68861904, 0.4611521 , 0.89928745, 0.95780856,\n",
       "        0.92331955],\n",
       "       [0.2235989 , 1.98143651, 0.2417056 , 1.00893185, 1.51611931,\n",
       "        0.37753971],\n",
       "       [0.15302168, 1.40574102, 0.12306331, 1.28228478, 1.14188706,\n",
       "        0.68121669],\n",
       "       [0.59732632, 2.08685228, 0.52845746, 0.8041    , 1.28017627,\n",
       "        0.48319504],\n",
       "       [0.97624778, 1.65805724, 0.75074111, 0.61833288, 0.93887851,\n",
       "        0.54257185],\n",
       "       [1.24531712, 0.66984471, 1.11967322, 0.23642533, 0.42929917,\n",
       "        0.26447261],\n",
       "       [0.76055891, 1.82807759, 0.67412488, 0.64635924, 1.09653605,\n",
       "        0.43610733],\n",
       "       [0.40112274, 0.50212418, 0.18272727, 0.6774565 , 0.35867106,\n",
       "        1.30232238],\n",
       "       [0.3294404 , 1.53190948, 0.21345113, 1.18374865, 1.02789524,\n",
       "        0.95504733]])"
      ]
     },
     "execution_count": 64,
     "metadata": {},
     "output_type": "execute_result"
    }
   ],
   "source": [
    "from scipy.stats import multivariate_normal\n",
    "prob = np.zeros((n, K))\n",
    "for i in range(n):\n",
    "    for j in range(K):\n",
    "        prob[i,j] = multivariate_normal.pdf(X[i,:], mean = Mu[j,:], cov = Var[j])\n",
    "prob"
   ]
  },
  {
   "cell_type": "code",
   "execution_count": 134,
   "metadata": {},
   "outputs": [
    {
     "data": {
      "text/plain": [
       "array([[0.17354324, 0.1940846 , 0.38136555, 0.0569083 , 0.16250611,\n",
       "        0.03159219],\n",
       "       [0.39379906, 0.08689908, 0.32081104, 0.04067548, 0.04920547,\n",
       "        0.10860986],\n",
       "       [0.35788285, 0.01907566, 0.18709726, 0.04472511, 0.01732312,\n",
       "        0.37389601],\n",
       "       [0.1926843 , 0.18091751, 0.11938917, 0.12743324, 0.09677628,\n",
       "        0.2827995 ],\n",
       "       [0.36304946, 0.07311615, 0.43750366, 0.02729566, 0.04877956,\n",
       "        0.05025552],\n",
       "       [0.07858663, 0.37039816, 0.08705556, 0.14917384, 0.21407079,\n",
       "        0.10071502],\n",
       "       [0.13662023, 0.29150288, 0.10750309, 0.13944117, 0.14926196,\n",
       "        0.17567066],\n",
       "       [0.04532868, 0.3784127 , 0.06233585, 0.17307275, 0.26138351,\n",
       "        0.07946652],\n",
       "       [0.03479877, 0.30116078, 0.03560306, 0.24675099, 0.22083887,\n",
       "        0.16084753],\n",
       "       [0.1084787 , 0.35703165, 0.12209297, 0.1235681 , 0.19771701,\n",
       "        0.09111156],\n",
       "       [0.18151436, 0.29042408, 0.1775779 , 0.09728296, 0.14845737,\n",
       "        0.10474333],\n",
       "       [0.30076284, 0.15240546, 0.34401967, 0.04831719, 0.08817505,\n",
       "        0.06631979],\n",
       "       [0.14424702, 0.32662602, 0.16265301, 0.10373168, 0.17686355,\n",
       "        0.08587872],\n",
       "       [0.12020158, 0.14175102, 0.06966009, 0.17178205, 0.09140515,\n",
       "        0.40520013],\n",
       "       [0.06707408, 0.29382795, 0.05528713, 0.20393925, 0.17797874,\n",
       "        0.20189285]])"
      ]
     },
     "execution_count": 134,
     "metadata": {},
     "output_type": "execute_result"
    }
   ],
   "source": [
    "post"
   ]
  },
  {
   "cell_type": "code",
   "execution_count": 65,
   "metadata": {},
   "outputs": [
    {
     "data": {
      "text/plain": [
       "-5.592899125423124"
      ]
     },
     "execution_count": 65,
     "metadata": {},
     "output_type": "execute_result"
    }
   ],
   "source": [
    "np.sum(np.log(np.dot(prob,P)))"
   ]
  },
  {
   "cell_type": "code",
   "execution_count": 46,
   "metadata": {},
   "outputs": [
    {
     "data": {
      "text/plain": [
       "(15, 6)"
      ]
     },
     "execution_count": 46,
     "metadata": {},
     "output_type": "execute_result"
    }
   ],
   "source": [
    "post.shape"
   ]
  },
  {
   "cell_type": "code",
   "execution_count": 52,
   "metadata": {},
   "outputs": [
    {
     "data": {
      "text/plain": [
       "0.20916271137062767"
      ]
     },
     "execution_count": 52,
     "metadata": {},
     "output_type": "execute_result"
    }
   ],
   "source": [
    "-5.592899/-26.739465"
   ]
  },
  {
   "cell_type": "code",
   "execution_count": 33,
   "metadata": {},
   "outputs": [
    {
     "data": {
      "text/plain": [
       "array([[0.17354324, 0.1940846 , 0.38136555, 0.0569083 , 0.16250611,\n",
       "        0.03159219],\n",
       "       [0.39379906, 0.08689908, 0.32081104, 0.04067548, 0.04920547,\n",
       "        0.10860986],\n",
       "       [0.35788285, 0.01907566, 0.18709726, 0.04472511, 0.01732312,\n",
       "        0.37389601],\n",
       "       [0.1926843 , 0.18091751, 0.11938917, 0.12743324, 0.09677628,\n",
       "        0.2827995 ],\n",
       "       [0.36304946, 0.07311615, 0.43750366, 0.02729566, 0.04877956,\n",
       "        0.05025552],\n",
       "       [0.07858663, 0.37039816, 0.08705556, 0.14917384, 0.21407079,\n",
       "        0.10071502],\n",
       "       [0.13662023, 0.29150288, 0.10750309, 0.13944117, 0.14926196,\n",
       "        0.17567066],\n",
       "       [0.04532868, 0.3784127 , 0.06233585, 0.17307275, 0.26138351,\n",
       "        0.07946652],\n",
       "       [0.03479877, 0.30116078, 0.03560306, 0.24675099, 0.22083887,\n",
       "        0.16084753],\n",
       "       [0.1084787 , 0.35703165, 0.12209297, 0.1235681 , 0.19771701,\n",
       "        0.09111156],\n",
       "       [0.18151436, 0.29042408, 0.1775779 , 0.09728296, 0.14845737,\n",
       "        0.10474333],\n",
       "       [0.30076284, 0.15240546, 0.34401967, 0.04831719, 0.08817505,\n",
       "        0.06631979],\n",
       "       [0.14424702, 0.32662602, 0.16265301, 0.10373168, 0.17686355,\n",
       "        0.08587872],\n",
       "       [0.12020158, 0.14175102, 0.06966009, 0.17178205, 0.09140515,\n",
       "        0.40520013],\n",
       "       [0.06707408, 0.29382795, 0.05528713, 0.20393925, 0.17797874,\n",
       "        0.20189285]])"
      ]
     },
     "execution_count": 33,
     "metadata": {},
     "output_type": "execute_result"
    }
   ],
   "source": [
    "post"
   ]
  },
  {
   "cell_type": "code",
   "execution_count": 73,
   "metadata": {},
   "outputs": [
    {
     "ename": "NameError",
     "evalue": "name 'GaussianMixture' is not defined",
     "output_type": "error",
     "traceback": [
      "\u001b[0;31m---------------------------------------------------------------------------\u001b[0m",
      "\u001b[0;31mNameError\u001b[0m                                 Traceback (most recent call last)",
      "\u001b[0;32m<ipython-input-73-63e61475763e>\u001b[0m in \u001b[0;36m<module>\u001b[0;34m\u001b[0m\n\u001b[0;32m----> 1\u001b[0;31m \u001b[0;32mdef\u001b[0m \u001b[0mmstep\u001b[0m\u001b[0;34m(\u001b[0m\u001b[0mX\u001b[0m\u001b[0;34m:\u001b[0m \u001b[0mnp\u001b[0m\u001b[0;34m.\u001b[0m\u001b[0mndarray\u001b[0m\u001b[0;34m,\u001b[0m \u001b[0mpost\u001b[0m\u001b[0;34m:\u001b[0m \u001b[0mnp\u001b[0m\u001b[0;34m.\u001b[0m\u001b[0mndarray\u001b[0m\u001b[0;34m)\u001b[0m \u001b[0;34m->\u001b[0m \u001b[0mGaussianMixture\u001b[0m\u001b[0;34m:\u001b[0m\u001b[0;34m\u001b[0m\u001b[0;34m\u001b[0m\u001b[0m\n\u001b[0m\u001b[1;32m      2\u001b[0m     \"\"\"M-step: Updates the gaussian mixture by maximizing the log-likelihood\n\u001b[1;32m      3\u001b[0m     \u001b[0mof\u001b[0m \u001b[0mthe\u001b[0m \u001b[0mweighted\u001b[0m \u001b[0mdataset\u001b[0m\u001b[0;34m\u001b[0m\u001b[0;34m\u001b[0m\u001b[0m\n\u001b[1;32m      4\u001b[0m \u001b[0;34m\u001b[0m\u001b[0m\n\u001b[1;32m      5\u001b[0m     \u001b[0mArgs\u001b[0m\u001b[0;34m:\u001b[0m\u001b[0;34m\u001b[0m\u001b[0;34m\u001b[0m\u001b[0m\n",
      "\u001b[0;31mNameError\u001b[0m: name 'GaussianMixture' is not defined"
     ]
    }
   ],
   "source": [
    "def mstep(X: np.ndarray, post: np.ndarray) -> GaussianMixture:\n",
    "    \"\"\"M-step: Updates the gaussian mixture by maximizing the log-likelihood\n",
    "    of the weighted dataset\n",
    "\n",
    "    Args:\n",
    "        X: (n, d) array holding the data\n",
    "        post: (n, K) array holding the soft counts\n",
    "            for all components for all examples\n",
    "\n",
    "    Returns:\n",
    "        GaussianMixture: the new gaussian mixture\n",
    "    \"\"\"\n",
    "    raise NotImplementedError"
   ]
  },
  {
   "cell_type": "code",
   "execution_count": 136,
   "metadata": {},
   "outputs": [],
   "source": [
    "post=np.array([[0.15765074 ,0.20544344, 0.17314824, 0.15652173, 0.12169798 ,0.18553787],\n",
    " [0.1094766,  0.22310587, 0.24109142 ,0.0959303 , 0.19807563 ,0.13232018],\n",
    " [0.22679645, 0.36955206, 0.02836173 ,0.03478709, 0.00807236 ,0.33243031],\n",
    " [0.16670188, 0.18637975, 0.20964608, 0.17120102, 0.09886116 ,0.16721011],\n",
    " [0.04250305, 0.22996176 ,0.05151538, 0.33947585 ,0.18753121, 0.14901275],\n",
    " [0.09799086, 0.28677458, 0.16895715, 0.21054678 ,0.0069597 , 0.22877093],\n",
    " [0.16764519, 0.16897033, 0.25848053, 0.18674186 ,0.09846462, 0.11969746],\n",
    " [0.28655211, 0.02473762, 0.27387452, 0.27546459 ,0.08641467 ,0.05295649],\n",
    " [0.11353057 ,0.13090863, 0.20522811, 0.15786368, 0.35574052, 0.03672849],\n",
    " [0.10510461, 0.08116927, 0.3286373 , 0.12745369, 0.23464272, 0.12299241],\n",
    " [0.09757735, 0.06774952, 0.40286261, 0.08481828, 0.1206645 , 0.22632773],\n",
    " [0.24899344, 0.02944918, 0.25413459, 0.02914503, 0.29614373, 0.14213403],\n",
    " [0.35350682, 0.21890411, 0.26755234, 0.01418274, 0.10235276, 0.04350123],\n",
    " [0.15555757, 0.06236572, 0.16703133, 0.21760554, 0.03369562, 0.36374421],\n",
    " [0.1917808  ,0.08982788 ,0.17710673, 0.03179658, 0.19494387, 0.31454414]])"
   ]
  },
  {
   "cell_type": "code",
   "execution_count": 139,
   "metadata": {},
   "outputs": [
    {
     "data": {
      "text/plain": [
       "array([[0.15765074, 0.20544344, 0.17314824, 0.15652173, 0.12169798,\n",
       "        0.18553787],\n",
       "       [0.1094766 , 0.22310587, 0.24109142, 0.0959303 , 0.19807563,\n",
       "        0.13232018],\n",
       "       [0.22679645, 0.36955206, 0.02836173, 0.03478709, 0.00807236,\n",
       "        0.33243031],\n",
       "       [0.16670188, 0.18637975, 0.20964608, 0.17120102, 0.09886116,\n",
       "        0.16721011],\n",
       "       [0.04250305, 0.22996176, 0.05151538, 0.33947585, 0.18753121,\n",
       "        0.14901275],\n",
       "       [0.09799086, 0.28677458, 0.16895715, 0.21054678, 0.0069597 ,\n",
       "        0.22877093],\n",
       "       [0.16764519, 0.16897033, 0.25848053, 0.18674186, 0.09846462,\n",
       "        0.11969746],\n",
       "       [0.28655211, 0.02473762, 0.27387452, 0.27546459, 0.08641467,\n",
       "        0.05295649],\n",
       "       [0.11353057, 0.13090863, 0.20522811, 0.15786368, 0.35574052,\n",
       "        0.03672849],\n",
       "       [0.10510461, 0.08116927, 0.3286373 , 0.12745369, 0.23464272,\n",
       "        0.12299241],\n",
       "       [0.09757735, 0.06774952, 0.40286261, 0.08481828, 0.1206645 ,\n",
       "        0.22632773],\n",
       "       [0.24899344, 0.02944918, 0.25413459, 0.02914503, 0.29614373,\n",
       "        0.14213403],\n",
       "       [0.35350682, 0.21890411, 0.26755234, 0.01418274, 0.10235276,\n",
       "        0.04350123],\n",
       "       [0.15555757, 0.06236572, 0.16703133, 0.21760554, 0.03369562,\n",
       "        0.36374421],\n",
       "       [0.1917808 , 0.08982788, 0.17710673, 0.03179658, 0.19494387,\n",
       "        0.31454414]])"
      ]
     },
     "execution_count": 139,
     "metadata": {},
     "output_type": "execute_result"
    }
   ],
   "source": [
    "post"
   ]
  },
  {
   "cell_type": "code",
   "execution_count": 140,
   "metadata": {},
   "outputs": [
    {
     "data": {
      "text/plain": [
       "array([[0.85794562, 0.84725174],\n",
       "       [0.6235637 , 0.38438171],\n",
       "       [0.29753461, 0.05671298],\n",
       "       [0.27265629, 0.47766512],\n",
       "       [0.81216873, 0.47997717],\n",
       "       [0.3927848 , 0.83607876],\n",
       "       [0.33739616, 0.64817187],\n",
       "       [0.36824154, 0.95715516],\n",
       "       [0.14035078, 0.87008726],\n",
       "       [0.47360805, 0.80091075],\n",
       "       [0.52047748, 0.67887953],\n",
       "       [0.72063265, 0.58201979],\n",
       "       [0.53737323, 0.75861562],\n",
       "       [0.10590761, 0.47360042],\n",
       "       [0.18633234, 0.73691818]])"
      ]
     },
     "execution_count": 140,
     "metadata": {},
     "output_type": "execute_result"
    }
   ],
   "source": [
    "X"
   ]
  },
  {
   "cell_type": "code",
   "execution_count": 147,
   "metadata": {},
   "outputs": [
    {
     "data": {
      "text/plain": [
       "array([0.1680912 , 0.15835331, 0.21384187, 0.14223565, 0.14295074,\n",
       "       0.17452722])"
      ]
     },
     "execution_count": 147,
     "metadata": {},
     "output_type": "execute_result"
    }
   ],
   "source": [
    "p_new = np.sum(post, axis = 0)/n\n",
    "p_new"
   ]
  },
  {
   "cell_type": "code",
   "execution_count": 149,
   "metadata": {},
   "outputs": [
    {
     "data": {
      "text/plain": [
       "array([[0.43216722, 0.64675402],\n",
       "       [0.46139681, 0.57129172],\n",
       "       [0.44658753, 0.68978041],\n",
       "       [0.44913747, 0.66937822],\n",
       "       [0.47080526, 0.68008664],\n",
       "       [0.40532311, 0.57364425]])"
      ]
     },
     "execution_count": 149,
     "metadata": {},
     "output_type": "execute_result"
    }
   ],
   "source": [
    "mu_new = np.dot(np.transpose(post),X)/(np.sum(post, axis = 0)).reshape(6,1)\n",
    "mu_new"
   ]
  },
  {
   "cell_type": "code",
   "execution_count": 167,
   "metadata": {},
   "outputs": [],
   "source": [
    "Sum = np.zeros((1,K))\n",
    "new_var = np.zeros((1,K))\n",
    "for i in range(n):\n",
    "    for j in range(K):\n",
    "        Sum[:,j] += post[i,j]*(np.linalg.norm(X[i,:]-mu_new[j,:]))**2\n",
    "new_var = np.squeeze(Sum/(d*np.sum(post, axis = 0)))"
   ]
  },
  {
   "cell_type": "code",
   "execution_count": 169,
   "metadata": {},
   "outputs": [
    {
     "data": {
      "text/plain": [
       "array([0.05218451, 0.06230449, 0.03538519, 0.05174859, 0.04524244,\n",
       "       0.05831186])"
      ]
     },
     "execution_count": 169,
     "metadata": {},
     "output_type": "execute_result"
    }
   ],
   "source": [
    "new_var"
   ]
  },
  {
   "cell_type": "code",
   "execution_count": null,
   "metadata": {},
   "outputs": [],
   "source": [
    "1.Create 2 arrays: one for K, one for seeds.\n",
    "\n",
    "2.Run an nested loop with\n",
    "\n",
    "for i in K:\n",
    "    for j in seeds:\n",
    "3.for each iteration initialize via common.init(X, i, j), execute kmeans.run, then print the results.\n",
    "\n",
    "4.For each K, copy the lowest value of cost."
   ]
  },
  {
   "cell_type": "code",
   "execution_count": 214,
   "metadata": {},
   "outputs": [
    {
     "data": {
      "text/plain": [
       "array([[-1307.22343176, -1307.22343176, -1307.22343176, -1307.22343176,\n",
       "        -1307.22343176],\n",
       "       [-1175.71468501, -1175.71486373, -1175.71462937, -1175.71467084,\n",
       "        -1175.71464843],\n",
       "       [-1138.89089969, -1138.89152686, -1138.89132325, -1138.89096017,\n",
       "        -1138.8910558 ],\n",
       "       [-1138.69786812, -1138.89104563, -1138.60358827, -1138.60157892,\n",
       "        -1138.6011757 ]])"
      ]
     },
     "execution_count": 214,
     "metadata": {},
     "output_type": "execute_result"
    }
   ],
   "source": [
    "importlib.reload(naive_em)\n",
    "K = [1,2,3,4]\n",
    "seed = [0,1,2,3,4]\n",
    "LL_matrix = np.zeros((4,5))\n",
    "for i in range(4):\n",
    "    for j in range(5):\n",
    "        mixture, post = common.init(X, K[i], seed[j])\n",
    "        _, _, LL = naive_em.run(X, mixture, post)\n",
    "        LL_matrix[i,j] = LL\n",
    "LL_matrix"
   ]
  },
  {
   "cell_type": "code",
   "execution_count": 264,
   "metadata": {},
   "outputs": [
    {
     "data": {
      "text/plain": [
       "-1138.6978681199807"
      ]
     },
     "execution_count": 264,
     "metadata": {},
     "output_type": "execute_result"
    }
   ],
   "source": [
    "mixture, post = common.init(X, 4, 0)\n",
    "mixture, post, cost = naive_em.run(X, mixture, post)\n",
    "cost"
   ]
  },
  {
   "cell_type": "code",
   "execution_count": 265,
   "metadata": {},
   "outputs": [
    {
     "data": {
      "image/png": "[encoded data removed]",
      "text/plain": [
       "<Figure size 432x288 with 1 Axes>"
      ]
     },
     "metadata": {
      "needs_background": "light"
     },
     "output_type": "display_data"
    }
   ],
   "source": [
    "import matplotlib.pyplot as plt\n",
    "from matplotlib.patches import Circle, Arc\n",
    "_, K = post.shape\n",
    "title = \"test\"\n",
    "\n",
    "percent = post / post.sum(axis=1).reshape(-1, 1)\n",
    "fig, ax = plt.subplots()\n",
    "ax.title.set_text(title)\n",
    "ax.set_xlim((-20, 20))\n",
    "ax.set_ylim((-20, 20))\n",
    "r = 0.25\n",
    "color = [\"r\", \"b\", \"k\", \"y\", \"m\", \"c\"]\n",
    "for i, point in enumerate(X):\n",
    "    theta = 0\n",
    "    for j in range(K):\n",
    "        offset = percent[i, j] * 360\n",
    "        arc = Arc(point,\n",
    "                  r,\n",
    "                  r,\n",
    "                  0,\n",
    "                  theta,\n",
    "                  theta + offset,\n",
    "                  edgecolor=color[j])\n",
    "        ax.add_patch(arc)\n",
    "        theta += offset\n",
    "for j in range(K):\n",
    "    mu = mixture.mu[j]\n",
    "    sigma = np.sqrt(mixture.var.ravel()[j])\n",
    "    circle = Circle(mu, sigma, color=color[j], fill=False)\n",
    "    ax.add_patch(circle)\n",
    "    legend = \"mu = ({:0.2f}, {:0.2f})\\n stdv = {:0.2f}\".format(\n",
    "        mu[0], mu[1], sigma)\n",
    "    ax.text(mu[0], mu[1], legend)\n",
    "plt.axis('equal')\n",
    "plt.show()"
   ]
  },
  {
   "cell_type": "code",
   "execution_count": 267,
   "metadata": {},
   "outputs": [
    {
     "data": {
      "text/plain": [
       "array([[ 6.26126211,  0.62804622],\n",
       "       [-2.0412143 ,  0.09657877],\n",
       "       [-2.14764693,  1.82496579],\n",
       "       [ 5.42411099, -0.02119474]])"
      ]
     },
     "execution_count": 267,
     "metadata": {},
     "output_type": "execute_result"
    }
   ],
   "source": [
    "mixture.mu."
   ]
  },
  {
   "cell_type": "code",
   "execution_count": 527,
   "metadata": {},
   "outputs": [],
   "source": [
    "X = np.loadtxt(\"netflix_complete.txt\")"
   ]
  },
  {
   "cell_type": "code",
   "execution_count": 529,
   "metadata": {},
   "outputs": [
    {
     "data": {
      "text/plain": [
       "[nan, nan, nan, nan, nan]"
      ]
     },
     "execution_count": 529,
     "metadata": {},
     "output_type": "execute_result"
    }
   ],
   "source": [
    "importlib.reload(common)\n",
    "importlib.reload(naive_em)\n",
    "K = 1\n",
    "seed = [0,1,2,3,4]\n",
    "BIC = []\n",
    "for i in seed:\n",
    "    mixture, post = common.init(X, K, i)\n",
    "    mixture, post, cost = naive_em.run(X, mixture, post)\n",
    "    BIC.append(cost)\n",
    "BIC"
   ]
  },
  {
   "cell_type": "code",
   "execution_count": 300,
   "metadata": {},
   "outputs": [],
   "source": [
    "mixture, post = common.init(X, 1, 0)"
   ]
  },
  {
   "cell_type": "code",
   "execution_count": 301,
   "metadata": {},
   "outputs": [],
   "source": [
    "a, b, cost = naive_em.run(X, mixture, post)"
   ]
  },
  {
   "cell_type": "code",
   "execution_count": null,
   "metadata": {},
   "outputs": [],
   "source": []
  },
  {
   "cell_type": "code",
   "execution_count": null,
   "metadata": {},
   "outputs": [],
   "source": []
  },
  {
   "cell_type": "code",
   "execution_count": null,
   "metadata": {},
   "outputs": [],
   "source": []
  },
  {
   "cell_type": "code",
   "execution_count": 386,
   "metadata": {},
   "outputs": [],
   "source": [
    "X = np.array([[0.22865032, 0.38574607, 0.      ,   0.        ],\n",
    " [0.     ,    0.         ,0.         ,0.        ],\n",
    " [0.82218752 ,0.95269925 ,0.25119665 ,0.73803058],\n",
    " [0.5202897  ,0.87235927 ,0.         ,0.38326043],\n",
    " [0.08463614 ,0.         ,0.         ,0.        ],\n",
    " [0.         ,0.19557112, 0.53146263 ,0.        ],\n",
    " [0.68865551 ,0.         ,0.        , 0.10153548],\n",
    " [0.         ,0.         ,0.85619172 ,0.        ],\n",
    " [0.         ,0.86627671 ,0.8746607  ,0.        ],\n",
    " [0.65596871, 0.97570881, 0.45895039 ,0.83562927]])\n",
    "K = 8\n",
    "Mu = np.array([[0.08463614, 0.      ,   0.   ,      0.        ],\n",
    " [0.82218752, 0.95269925 ,0.25119665, 0.73803058],\n",
    " [0.        , 0.19557112 ,0.53146263 ,0.        ],\n",
    " [0.22865032, 0.38574607,0.        , 0.        ],\n",
    " [0.        , 0.86627671 ,0.8746607 , 0.        ],\n",
    " [0.68865551 ,0.         ,0.        , 0.10153548],\n",
    " [0.         ,0.         ,0.85619172 ,0.        ],\n",
    " [0.        , 0.         ,0.        , 0.        ]])\n",
    "Var = np.array([0.21217535 ,0.33192747, 0.18272628, 0.15711043, 0.28794066 ,0.23045856,\n",
    " 0.27909779, 0.22308159])\n",
    "P = np.array([0.1052816,  0.13928288, 0.11727634, 0.16243431 ,0.11100271, 0.10106359,\n",
    " 0.13015759 ,0.13350098])"
   ]
  },
  {
   "cell_type": "code",
   "execution_count": null,
   "metadata": {},
   "outputs": [],
   "source": [
    "from scipy.stats import multivariate_normal\n",
    "prob = np.zeros((n, K))\n",
    "for i in range(n):\n",
    "    for j in range(K):\n",
    "        prob[i,j] = multivariate_normal.pdf(X[i,:], mean = Mu[j,:], cov = Var[j])\n",
    "prob"
   ]
  },
  {
   "cell_type": "code",
   "execution_count": 415,
   "metadata": {},
   "outputs": [
    {
     "data": {
      "text/plain": [
       "array([[0.22865032, 0.38574607, 0.        , 0.        ],\n",
       "       [0.        , 0.        , 0.        , 0.        ],\n",
       "       [0.82218752, 0.95269925, 0.25119665, 0.73803058],\n",
       "       [0.5202897 , 0.87235927, 0.        , 0.38326043],\n",
       "       [0.08463614, 0.        , 0.        , 0.        ],\n",
       "       [0.        , 0.19557112, 0.53146263, 0.        ],\n",
       "       [0.68865551, 0.        , 0.        , 0.10153548],\n",
       "       [0.        , 0.        , 0.85619172, 0.        ],\n",
       "       [0.        , 0.86627671, 0.8746607 , 0.        ],\n",
       "       [0.65596871, 0.97570881, 0.45895039, 0.83562927]])"
      ]
     },
     "execution_count": 415,
     "metadata": {},
     "output_type": "execute_result"
    }
   ],
   "source": [
    "X"
   ]
  },
  {
   "cell_type": "code",
   "execution_count": 429,
   "metadata": {},
   "outputs": [],
   "source": [
    "indicator = np.zeros(X.shape)\n",
    "for i in range (len(X)):\n",
    "    for j in range (len(X[0])):\n",
    "        if X[i,j] > 0 or X[i,j]<0:\n",
    "            indicator[i,j]=1\n",
    "        else:\n",
    "            indicator[i,j]=0"
   ]
  },
  {
   "cell_type": "code",
   "execution_count": 439,
   "metadata": {},
   "outputs": [
    {
     "data": {
      "text/plain": [
       "-14.415936499911426"
      ]
     },
     "execution_count": 439,
     "metadata": {},
     "output_type": "execute_result"
    }
   ],
   "source": [
    "n, _ = X.shape\n",
    "K, _ = Mu.shape\n",
    "post = np.zeros((n, K))\n",
    "prob = np.zeros((n, K))\n",
    "D = np.sum(np.where(X, 1, 0), axis=1)\n",
    "\n",
    "for i in range(n):\n",
    "    # calculate the probability sample i assign to a class j\n",
    "    for j in range(K):\n",
    "        x = X[i, :]\n",
    "        var = Var[j]\n",
    "        d = D[i]\n",
    "        mu = Mu[j,:]\n",
    "        prob[i,j] = (np.power((var*2*np.pi), -d/2)* \\\n",
    "                    np.exp(((-1/2)* \\\n",
    "                    (((indicator[i]*np.transpose((x - mu))@((1/var)* \\\n",
    "                    np.eye(np.transpose((x - mu)).shape[0])))@(indicator[i]*(x - mu)))))))\n",
    "    for k in range(K):\n",
    "        post[i, k] = prob[i,k]*P[k]/np.dot(prob[i,:],P)\n",
    "# calculate log likelinhood\n",
    "LL = np.sum(np.log(np.dot(prob,P)))\n",
    "LL"
   ]
  },
  {
   "cell_type": "code",
   "execution_count": 428,
   "metadata": {},
   "outputs": [
    {
     "data": {
      "text/plain": [
       "array([[0.13937406, 0.02549917, 0.09742684, 0.43302211, 0.0261555 ,\n",
       "        0.08217457, 0.03663994, 0.15970781],\n",
       "       [0.22757242, 0.01128156, 0.10720037, 0.18830233, 0.01756142,\n",
       "        0.07764708, 0.07695197, 0.29348285],\n",
       "       [0.01121783, 0.77700254, 0.01285345, 0.06849551, 0.04965963,\n",
       "        0.05686271, 0.01177314, 0.01213519],\n",
       "       [0.05217479, 0.3043913 , 0.04062906, 0.37764496, 0.05930026,\n",
       "        0.08927351, 0.01849537, 0.05809076],\n",
       "       [0.21939957, 0.01043137, 0.10737807, 0.22933974, 0.01411362,\n",
       "        0.08954655, 0.06279148, 0.26699961],\n",
       "       [0.1098507 , 0.0119832 , 0.30768146, 0.1522412 , 0.06896838,\n",
       "        0.03663946, 0.17282399, 0.13981162],\n",
       "       [0.15182038, 0.03808132, 0.05248986, 0.23534728, 0.00885825,\n",
       "        0.32479856, 0.03899212, 0.14961222],\n",
       "       [0.06401932, 0.00904604, 0.29677225, 0.0336003 , 0.09002677,\n",
       "        0.02403739, 0.39488496, 0.08761296],\n",
       "       [0.01815278, 0.04860713, 0.17965799, 0.04867293, 0.51006531,\n",
       "        0.00757   , 0.16076059, 0.02651327],\n",
       "       [0.00924567, 0.76646864, 0.02044111, 0.04614948, 0.09372223,\n",
       "        0.03241295, 0.02074894, 0.01081098]])"
      ]
     },
     "execution_count": 428,
     "metadata": {},
     "output_type": "execute_result"
    }
   ],
   "source": [
    "post"
   ]
  },
  {
   "cell_type": "code",
   "execution_count": 376,
   "metadata": {},
   "outputs": [
    {
     "data": {
      "text/plain": [
       "-17.58434236112665"
      ]
     },
     "execution_count": 376,
     "metadata": {},
     "output_type": "execute_result"
    }
   ],
   "source": [
    "LL"
   ]
  },
  {
   "cell_type": "code",
   "execution_count": 354,
   "metadata": {},
   "outputs": [
    {
     "ename": "IndexError",
     "evalue": "index 10 is out of bounds for axis 0 with size 10",
     "output_type": "error",
     "traceback": [
      "\u001b[0;31m---------------------------------------------------------------------------\u001b[0m",
      "\u001b[0;31mIndexError\u001b[0m                                Traceback (most recent call last)",
      "\u001b[0;32m<ipython-input-354-8b24fc4cf3df>\u001b[0m in \u001b[0;36m<module>\u001b[0;34m\u001b[0m\n\u001b[1;32m      4\u001b[0m     \u001b[0;32mfor\u001b[0m \u001b[0mj\u001b[0m \u001b[0;32min\u001b[0m \u001b[0mrange\u001b[0m\u001b[0;34m(\u001b[0m\u001b[0mK\u001b[0m\u001b[0;34m)\u001b[0m\u001b[0;34m:\u001b[0m\u001b[0;34m\u001b[0m\u001b[0;34m\u001b[0m\u001b[0m\n\u001b[1;32m      5\u001b[0m         log_post2[i, j]= np.exp(np.log(P[j]+1e-16)-\\\n\u001b[0;32m----> 6\u001b[0;31m                                 (np.linalg.norm(indicator[i]*(X[i]-Mu[j]))**(2))/(2*Var[j])-(((sum(indicator[i])/2)* \\\n\u001b[0m\u001b[1;32m      7\u001b[0m                                                                                              np.log(2*np.pi*Var[j]))))\n\u001b[1;32m      8\u001b[0m \u001b[0mlog_post2\u001b[0m\u001b[0;34m\u001b[0m\u001b[0;34m\u001b[0m\u001b[0m\n",
      "\u001b[0;31mIndexError\u001b[0m: index 10 is out of bounds for axis 0 with size 10"
     ]
    }
   ],
   "source": [
    "log_post2 = np.zeros((n,K))\n",
    "for i in range(n):\n",
    "    # claculate the probability sample i assign to a class j\n",
    "    for j in range(K):\n",
    "        log_post2[i, j]= np.exp(np.log(P[j]+1e-16)-\\\n",
    "                                (np.linalg.norm(indicator[i]*(X[i]-Mu[j]))**(2))/(2*Var[j])-(((sum(indicator[i])/2)* \\\n",
    "                                                                                             np.log(2*np.pi*Var[j]))))\n",
    "log_post2"
   ]
  },
  {
   "cell_type": "code",
   "execution_count": 407,
   "metadata": {},
   "outputs": [
    {
     "data": {
      "text/plain": [
       "array([[-3.95247195, -4.92083784, -3.49571493, -1.77155377, -4.12417934,\n",
       "        -4.80851449, -3.97659527, -4.20105113],\n",
       "       [-1.7243135 , -1.71295243, -1.73002619, -1.78448305, -1.68315631,\n",
       "        -1.83335334, -1.80823225, -1.85327268],\n",
       "       [-9.06295559, -3.18302897, -9.49495512, -8.96399284, -7.2849478 ,\n",
       "        -7.69634118, -8.59035812, -9.16447547],\n",
       "       [-7.09355311, -4.23965875, -7.05825243, -6.12280027, -4.81682406,\n",
       "        -6.43299267, -6.54055525, -7.22629394],\n",
       "       [-1.86808092, -4.3024973 , -2.2622671 , -2.69466144, -2.27353046,\n",
       "        -4.63939546, -2.3923233 , -2.40149781],\n",
       "       [-4.68088754, -4.88025814, -1.86813727, -5.36433559, -4.89258843,\n",
       "        -4.66083971, -3.72812812, -4.72948454],\n",
       "       [-4.89858312, -4.40730819, -5.67766303, -4.76993988, -4.69354615,\n",
       "        -2.20354619, -4.86402583, -5.31131715],\n",
       "       [-5.90338342, -3.90314406, -3.57621576, -7.22763573, -2.04373603,\n",
       "        -5.73361539, -2.08907425, -5.86012288],\n",
       "       [-7.81385561, -4.34426447, -5.99131451, -8.12357289, -2.27603251,\n",
       "        -7.54525675, -5.47446813, -7.70928487],\n",
       "       [-9.26987229, -4.0396408 , -9.23025955, -9.39542054, -6.84896463,\n",
       "        -8.23566442, -8.29216408, -9.31389261]])"
      ]
     },
     "execution_count": 407,
     "metadata": {},
     "output_type": "execute_result"
    }
   ],
   "source": [
    "log_post1 = np.zeros((n,K))\n",
    "for i in range(n):\n",
    "    # claculate the probability sample i assign to a class j\n",
    "    for j in range(K):\n",
    "         log_post1[i,j]=np.log(p[j]+1e-16)- \\\n",
    "            (np.linalg.norm(indicator[i]*(X[i]-Mu[j]))*(2))/(2*Var[j])- \\\n",
    "            ((sum(indicator[i])/2)*np.log(2*np.pi*Var[j]))\n",
    "log_post1"
   ]
  },
  {
   "cell_type": "code",
   "execution_count": 336,
   "metadata": {},
   "outputs": [
    {
     "data": {
      "text/plain": [
       "array([1., 1., 1., 1.])"
      ]
     },
     "execution_count": 336,
     "metadata": {},
     "output_type": "execute_result"
    }
   ],
   "source": [
    "indicator[1]"
   ]
  },
  {
   "cell_type": "code",
   "execution_count": null,
   "metadata": {},
   "outputs": [],
   "source": []
  },
  {
   "cell_type": "code",
   "execution_count": null,
   "metadata": {},
   "outputs": [],
   "source": []
  },
  {
   "cell_type": "code",
   "execution_count": null,
   "metadata": {},
   "outputs": [],
   "source": []
  },
  {
   "cell_type": "code",
   "execution_count": 535,
   "metadata": {},
   "outputs": [],
   "source": [
    "X = np.array([[0.85794562, 0.84725174],\n",
    " [0.6235637 , 0.38438171],\n",
    " [0.29753461 ,0.05671298],\n",
    " [0.         ,0.47766512],\n",
    " [0.        , 0.        ],\n",
    " [0.3927848 , 0.        ],\n",
    " [0.        , 0.64817187],\n",
    " [0.36824154, 0.        ],\n",
    " [0.        , 0.87008726],\n",
    " [0.47360805 ,0.        ],\n",
    " [0.         ,0.        ],\n",
    " [0.         ,0.        ],\n",
    " [0.53737323 ,0.75861562],\n",
    " [0.10590761 ,0.        ],\n",
    " [0.18633234 ,0.        ]])\n",
    "K = 6\n",
    "post = np.array([[0.15765074, 0.20544344, 0.17314824 ,0.15652173, 0.12169798, 0.18553787],\n",
    " [0.1094766 , 0.22310587 ,0.24109142 ,0.0959303 , 0.19807563 ,0.13232018],\n",
    " [0.22679645 ,0.36955206 ,0.02836173 ,0.03478709 ,0.00807236 ,0.33243031],\n",
    " [0.16670188, 0.18637975 ,0.20964608 ,0.17120102, 0.09886116 ,0.16721011],\n",
    " [0.04250305, 0.22996176 ,0.05151538 ,0.33947585, 0.18753121 ,0.14901275],\n",
    " [0.09799086, 0.28677458 ,0.16895715 ,0.21054678, 0.0069597  ,0.22877093],\n",
    " [0.16764519, 0.16897033 ,0.25848053 ,0.18674186 ,0.09846462, 0.11969746],\n",
    " [0.28655211, 0.02473762 ,0.27387452, 0.27546459, 0.08641467, 0.05295649],\n",
    " [0.11353057, 0.13090863 ,0.20522811, 0.15786368, 0.35574052, 0.03672849],\n",
    " [0.10510461, 0.08116927 ,0.3286373 , 0.12745369, 0.23464272, 0.12299241],\n",
    " [0.09757735, 0.06774952 ,0.40286261, 0.08481828 ,0.1206645 , 0.22632773],\n",
    " [0.24899344, 0.02944918, 0.25413459, 0.02914503, 0.29614373, 0.14213403],\n",
    " [0.35350682 ,0.21890411 ,0.26755234, 0.01418274 ,0.10235276, 0.04350123],\n",
    " [0.15555757 ,0.06236572, 0.16703133, 0.21760554, 0.03369562, 0.36374421],\n",
    " [0.1917808 , 0.08982788, 0.17710673, 0.03179658, 0.19494387, 0.31454414]])"
   ]
  },
  {
   "cell_type": "code",
   "execution_count": 549,
   "metadata": {},
   "outputs": [
    {
     "ename": "ValueError",
     "evalue": "could not broadcast input array from shape (6,2) into shape (2)",
     "output_type": "error",
     "traceback": [
      "\u001b[0;31m---------------------------------------------------------------------------\u001b[0m",
      "\u001b[0;31mValueError\u001b[0m                                Traceback (most recent call last)",
      "\u001b[0;32m<ipython-input-549-7ffd0f522fe0>\u001b[0m in \u001b[0;36m<module>\u001b[0;34m\u001b[0m\n\u001b[1;32m     12\u001b[0m \u001b[0mp\u001b[0m \u001b[0;34m=\u001b[0m \u001b[0mnp\u001b[0m\u001b[0;34m.\u001b[0m\u001b[0msum\u001b[0m\u001b[0;34m(\u001b[0m\u001b[0mpost\u001b[0m\u001b[0;34m,\u001b[0m \u001b[0maxis\u001b[0m \u001b[0;34m=\u001b[0m \u001b[0;36m0\u001b[0m\u001b[0;34m)\u001b[0m\u001b[0;34m/\u001b[0m\u001b[0mn\u001b[0m\u001b[0;34m\u001b[0m\u001b[0;34m\u001b[0m\u001b[0m\n\u001b[1;32m     13\u001b[0m \u001b[0;32mfor\u001b[0m \u001b[0mi\u001b[0m \u001b[0;32min\u001b[0m \u001b[0mrange\u001b[0m\u001b[0;34m(\u001b[0m\u001b[0mK\u001b[0m\u001b[0;34m)\u001b[0m\u001b[0;34m:\u001b[0m\u001b[0;34m\u001b[0m\u001b[0;34m\u001b[0m\u001b[0m\n\u001b[0;32m---> 14\u001b[0;31m     \u001b[0mmu\u001b[0m\u001b[0;34m[\u001b[0m\u001b[0mi\u001b[0m\u001b[0;34m]\u001b[0m \u001b[0;34m=\u001b[0m \u001b[0mnp\u001b[0m\u001b[0;34m.\u001b[0m\u001b[0mdot\u001b[0m\u001b[0;34m(\u001b[0m\u001b[0mnp\u001b[0m\u001b[0;34m.\u001b[0m\u001b[0mtranspose\u001b[0m\u001b[0;34m(\u001b[0m\u001b[0mpost\u001b[0m\u001b[0;34m)\u001b[0m\u001b[0;34m,\u001b[0m\u001b[0mX\u001b[0m\u001b[0;34m*\u001b[0m\u001b[0mindicator\u001b[0m\u001b[0;34m[\u001b[0m\u001b[0mi\u001b[0m\u001b[0;34m]\u001b[0m\u001b[0;34m)\u001b[0m\u001b[0;34m/\u001b[0m\u001b[0;34m(\u001b[0m\u001b[0mnp\u001b[0m\u001b[0;34m.\u001b[0m\u001b[0msum\u001b[0m\u001b[0;34m(\u001b[0m\u001b[0mpost\u001b[0m\u001b[0;34m,\u001b[0m \u001b[0maxis\u001b[0m \u001b[0;34m=\u001b[0m \u001b[0;36m0\u001b[0m\u001b[0;34m)\u001b[0m\u001b[0;34m)\u001b[0m\u001b[0;34m.\u001b[0m\u001b[0mreshape\u001b[0m\u001b[0;34m(\u001b[0m\u001b[0mK\u001b[0m\u001b[0;34m,\u001b[0m\u001b[0;36m1\u001b[0m\u001b[0;34m)\u001b[0m\u001b[0;34m[\u001b[0m\u001b[0mi\u001b[0m\u001b[0;34m]\u001b[0m\u001b[0;34m\u001b[0m\u001b[0;34m\u001b[0m\u001b[0m\n\u001b[0m",
      "\u001b[0;31mValueError\u001b[0m: could not broadcast input array from shape (6,2) into shape (2)"
     ]
    }
   ],
   "source": [
    "# construct indicator\n",
    "indicator = np.zeros(X.shape)\n",
    "for i in range (len(X)):\n",
    "    for j in range (len(X[0])):\n",
    "        if X[i,j] > 0 or X[i,j]<0:\n",
    "            indicator[i,j]=1\n",
    "        else:\n",
    "            indicator[i,j]=0\n",
    "D = np.sum(np.where(X, 1, 0), axis=1)\n",
    "n, _ = X.shape\n",
    "K = post.shape[1]\n",
    "p = np.sum(post, axis = 0)/n\n",
    "for i in range(K):\n",
    "    mu = np.dot(np.transpose(post),X*indicator[i])/(np.sum(post, axis = 0)).reshape(K,1)[i]"
   ]
  },
  {
   "cell_type": "code",
   "execution_count": 545,
   "metadata": {},
   "outputs": [
    {
     "data": {
      "text/plain": [
       "array([[0.28038909, 0.29498305],\n",
       "       [0.30585746, 0.31966217],\n",
       "       [0.25709132, 0.27752467],\n",
       "       [0.        , 0.24484815],\n",
       "       [0.        , 0.        ],\n",
       "       [0.24016086, 0.        ]])"
      ]
     },
     "execution_count": 545,
     "metadata": {},
     "output_type": "execute_result"
    }
   ],
   "source": [
    "mu"
   ]
  },
  {
   "cell_type": "code",
   "execution_count": 540,
   "metadata": {},
   "outputs": [
    {
     "data": {
      "text/plain": [
       "array([[0.28038909, 0.29498305],\n",
       "       [0.30585746, 0.31966217],\n",
       "       [0.25709132, 0.27752467],\n",
       "       [0.2275794 , 0.24484815],\n",
       "       [0.21961097, 0.3161553 ],\n",
       "       [0.24016086, 0.17163493]])"
      ]
     },
     "execution_count": 540,
     "metadata": {},
     "output_type": "execute_result"
    }
   ],
   "source": [
    "mu"
   ]
  },
  {
   "cell_type": "code",
   "execution_count": 513,
   "metadata": {},
   "outputs": [
    {
     "data": {
      "text/plain": [
       "array([[0.        , 0.84725174],\n",
       "       [0.        , 0.38438171],\n",
       "       [0.        , 0.05671298],\n",
       "       [0.        , 0.47766512],\n",
       "       [0.        , 0.        ],\n",
       "       [0.        , 0.        ],\n",
       "       [0.        , 0.64817187],\n",
       "       [0.        , 0.        ],\n",
       "       [0.        , 0.87008726],\n",
       "       [0.        , 0.        ],\n",
       "       [0.        , 0.        ],\n",
       "       [0.        , 0.        ],\n",
       "       [0.        , 0.75861562],\n",
       "       [0.        , 0.        ],\n",
       "       [0.        , 0.        ]])"
      ]
     },
     "execution_count": 513,
     "metadata": {},
     "output_type": "execute_result"
    }
   ],
   "source": [
    "X*indicator[3]"
   ]
  },
  {
   "cell_type": "code",
   "execution_count": 494,
   "metadata": {},
   "outputs": [
    {
     "data": {
      "text/plain": [
       "array([[0.28038909, 0.        ],\n",
       "       [0.30585746, 0.        ],\n",
       "       [0.25709132, 0.        ],\n",
       "       [0.2275794 , 0.        ],\n",
       "       [0.21961097, 0.        ],\n",
       "       [0.24016086, 0.        ]])"
      ]
     },
     "execution_count": 494,
     "metadata": {},
     "output_type": "execute_result"
    }
   ],
   "source": [
    "# only update those satisfy condition\n",
    "if "
   ]
  },
  {
   "cell_type": "code",
   "execution_count": 503,
   "metadata": {},
   "outputs": [
    {
     "data": {
      "text/plain": [
       "array([2.25673831, 2.40930058, 2.24805941, 2.13905984, 2.60170479,\n",
       "       1.58423685])"
      ]
     },
     "execution_count": 503,
     "metadata": {},
     "output_type": "execute_result"
    }
   ],
   "source": [
    "var = np.zeros((1,K))\n",
    "for i in range(n):\n",
    "    for j in range(K):\n",
    "        Sum[:,j] += post[i,j]*(np.linalg.norm(X[i,:]-mu[j,:]))**2\n",
    "    var = np.squeeze(Sum/((D[i]+1e-6)*np.sum(post, axis = 0)))\n",
    "for i in range(var.shape[0]):\n",
    "    if var[i] < 0.25:\n",
    "        var[i] = 0.25\n",
    "var"
   ]
  },
  {
   "cell_type": "code",
   "execution_count": 504,
   "metadata": {},
   "outputs": [
    {
     "data": {
      "text/plain": [
       "array([2, 2, 2, 1, 0, 1, 1, 1, 1, 1, 0, 0, 2, 1, 1])"
      ]
     },
     "execution_count": 504,
     "metadata": {},
     "output_type": "execute_result"
    }
   ],
   "source": [
    "D"
   ]
  },
  {
   "cell_type": "code",
   "execution_count": 496,
   "metadata": {},
   "outputs": [
    {
     "data": {
      "text/plain": [
       "(15, 2)"
      ]
     },
     "execution_count": 496,
     "metadata": {},
     "output_type": "execute_result"
    }
   ],
   "source": [
    "indicator.shape"
   ]
  },
  {
   "cell_type": "code",
   "execution_count": 469,
   "metadata": {},
   "outputs": [
    {
     "data": {
      "text/plain": [
       "(15, 2)"
      ]
     },
     "execution_count": 469,
     "metadata": {},
     "output_type": "execute_result"
    }
   ],
   "source": [
    "X.shape #15 points, "
   ]
  },
  {
   "cell_type": "code",
   "execution_count": 481,
   "metadata": {},
   "outputs": [
    {
     "data": {
      "text/plain": [
       "array([[0.85794562, 0.84725174],\n",
       "       [0.6235637 , 0.38438171],\n",
       "       [0.29753461, 0.05671298],\n",
       "       [0.        , 0.47766512],\n",
       "       [0.        , 0.        ],\n",
       "       [0.3927848 , 0.        ],\n",
       "       [0.        , 0.64817187],\n",
       "       [0.36824154, 0.        ],\n",
       "       [0.        , 0.87008726],\n",
       "       [0.47360805, 0.        ],\n",
       "       [0.        , 0.        ],\n",
       "       [0.        , 0.        ],\n",
       "       [0.53737323, 0.75861562],\n",
       "       [0.10590761, 0.        ],\n",
       "       [0.18633234, 0.        ]])"
      ]
     },
     "execution_count": 481,
     "metadata": {},
     "output_type": "execute_result"
    }
   ],
   "source": [
    "X"
   ]
  },
  {
   "cell_type": "code",
   "execution_count": 480,
   "metadata": {},
   "outputs": [
    {
     "data": {
      "text/plain": [
       "array([[1., 1.],\n",
       "       [1., 1.],\n",
       "       [1., 1.],\n",
       "       [0., 1.],\n",
       "       [0., 0.],\n",
       "       [1., 0.],\n",
       "       [0., 1.],\n",
       "       [1., 0.],\n",
       "       [0., 1.],\n",
       "       [1., 0.],\n",
       "       [0., 0.],\n",
       "       [0., 0.],\n",
       "       [1., 1.],\n",
       "       [1., 0.],\n",
       "       [1., 0.]])"
      ]
     },
     "execution_count": 480,
     "metadata": {},
     "output_type": "execute_result"
    }
   ],
   "source": [
    "indicator"
   ]
  },
  {
   "cell_type": "code",
   "execution_count": 550,
   "metadata": {},
   "outputs": [
    {
     "data": {
      "text/plain": [
       "array([nan, nan, nan, ..., nan, nan, nan])"
      ]
     },
     "execution_count": 550,
     "metadata": {},
     "output_type": "execute_result"
    }
   ],
   "source": [
    "np.dot(mixture.p, mixture.mu)"
   ]
  },
  {
   "cell_type": "code",
   "execution_count": 554,
   "metadata": {},
   "outputs": [
    {
     "data": {
      "text/plain": [
       "(8, 4)"
      ]
     },
     "execution_count": 554,
     "metadata": {},
     "output_type": "execute_result"
    }
   ],
   "source": [
    "Mu.shape"
   ]
  },
  {
   "cell_type": "code",
   "execution_count": 555,
   "metadata": {},
   "outputs": [
    {
     "data": {
      "text/plain": [
       "(8,)"
      ]
     },
     "execution_count": 555,
     "metadata": {},
     "output_type": "execute_result"
    }
   ],
   "source": [
    "P.shape"
   ]
  },
  {
   "cell_type": "code",
   "execution_count": 557,
   "metadata": {},
   "outputs": [
    {
     "data": {
      "text/plain": [
       "0.2408788643191375"
      ]
     },
     "execution_count": 557,
     "metadata": {},
     "output_type": "execute_result"
    }
   ],
   "source": [
    "np.mean(np.dot(P, Mu))"
   ]
  }
 ],
 "metadata": {
  "kernelspec": {
   "display_name": "Python 3",
   "language": "python",
   "name": "python3"
  },
  "language_info": {
   "codemirror_mode": {
    "name": "ipython",
    "version": 3
   },
   "file_extension": ".py",
   "mimetype": "text/x-python",
   "name": "python",
   "nbconvert_exporter": "python",
   "pygments_lexer": "ipython3",
   "version": "3.7.1"
  }
 },
 "nbformat": 4,
 "nbformat_minor": 2
}
